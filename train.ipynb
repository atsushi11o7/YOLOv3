{
 "cells": [
  {
   "cell_type": "code",
   "execution_count": null,
   "metadata": {},
   "outputs": [],
   "source": [
    "IMG_DIR = 'path/to/data/'\n",
    "CSV_PATH = 'path/to/data/bbox.csv'"
   ]
  },
  {
   "cell_type": "code",
   "execution_count": null,
   "metadata": {},
   "outputs": [],
   "source": [
    "from utils import get_anchor_dict\n",
    "\n",
    "img_size = 640\n",
    "anchor_dict = get_anchor_dict(CSV_PATH, img_size)"
   ]
  },
  {
   "cell_type": "code",
   "execution_count": null,
   "metadata": {},
   "outputs": [],
   "source": [
    "# 教師データのDataLoaderの設定\n",
    "from torch.utils.data import DataLoader\n",
    "\n",
    "from dataset import YOLOv3_Dataset\n",
    "\n",
    "img_size_x = 640\n",
    "img_size_y = 480\n",
    "transform = transforms.ToTensor()\n",
    "\n",
    "dataset = YOLOv3_Dataset(IMG_DIR, CSV_PATH, img_size_x, img_size_y, anchor_dict, transform)"
   ]
  },
  {
   "cell_type": "code",
   "execution_count": null,
   "metadata": {},
   "outputs": [],
   "source": [
    "batch_size = 1\n",
    "train_loader = DataLoader(dataset, batch_size=batch_size, shuffle=True)"
   ]
  },
  {
   "cell_type": "code",
   "execution_count": null,
   "metadata": {},
   "outputs": [],
   "source": [
    "print(len(dataset))\n",
    "print(len(train_loader))"
   ]
  },
  {
   "cell_type": "code",
   "execution_count": null,
   "metadata": {},
   "outputs": [],
   "source": [
    "# dataloaderのテスト\n",
    "mini_train_loader = DataLoader(dataset, batch_size=1, shuffle=True)\n",
    "\n",
    "# イテレータを作成\n",
    "iterator = iter(mini_train_loader)\n",
    "\n",
    "# 1つのバッチを取り出す\n",
    "img, target3, target2, target1 = next(iterator)"
   ]
  },
  {
   "cell_type": "code",
   "execution_count": null,
   "metadata": {},
   "outputs": [],
   "source": [
    "# 描画テスト\n",
    "from utils import get_multiple_bboxes\n",
    "\n",
    "flag, bbox_list, label_list, score_list, NMS_bbox_list, _, NMS_label_list, NMS_score_list = get_multiple_bboxes([target3[0], target2[0], target1[0]], anchor_dict, num_cls = 3, img_size_x, img_size_y)"
   ]
  },
  {
   "cell_type": "code",
   "execution_count": null,
   "metadata": {},
   "outputs": [],
   "source": [
    "# 非最大値抑制適応\n",
    "draw_bbox(img[0], NMS_bbox_list, NMS_label_list, [])"
   ]
  },
  {
   "cell_type": "code",
   "execution_count": null,
   "metadata": {},
   "outputs": [],
   "source": [
    "# テスト\n",
    "from model import YOLOv3\n",
    "\n",
    "model = YOLOv3()\n",
    "with torch.no_grad():\n",
    "    output = model(torch.zeros((1,3,640,480)))\n",
    "for i in range(3):\n",
    "    print(output[i].shape)"
   ]
  },
  {
   "cell_type": "code",
   "execution_count": null,
   "metadata": {},
   "outputs": [],
   "source": [
    "from utils import YOLOv3_loss_function\n",
    "\n",
    "from torch import optim\n",
    "\n",
    "# モデル\n",
    "model = YOLOv3()\n",
    "#model.load_state_dict(torch.load('./YOLOv3_weights_e100.pth'))\n",
    "model.cuda()\n",
    "\n",
    "# 最適化アルゴリズム\n",
    "optimizer = optim.Adam(model.parameters())\n",
    "\n",
    "# エポック数\n",
    "epoch = 100"
   ]
  },
  {
   "cell_type": "code",
   "execution_count": null,
   "metadata": {},
   "outputs": [],
   "source": [
    "# 損失のログ\n",
    "record_loss_train = []\n",
    "record_loss_test = []\n",
    "\n",
    "for i in range(epoch):\n",
    "    model.train()\n",
    "    loss_train = 0\n",
    "    coord_loss_train = 0\n",
    "    obj_loss_train = 0\n",
    "    class_loss_train = 0\n",
    "    noobj_loss_train = 0\n",
    "    for j, (img, target3, target2, target1) in enumerate(train_loader):\n",
    "        img, target3, target2, target1 = img.cuda(), target3.cuda(), target2.cuda(), target1.cuda()  # GPU対応\n",
    "        pred3, pred2, pred1 = model(img)\n",
    "        #print(pred3.size())\n",
    "        #print(target3.size())\n",
    "        loss, coord_loss, obj_loss, class_loss, noobj_loss= YOLOv3_loss_function([pred3, pred2, pred1], [target3, target2, target1])\n",
    "        loss_train += loss.item()\n",
    "        coord_loss_train += coord_loss.item()\n",
    "        obj_loss_train += obj_loss.item()\n",
    "        class_loss_train += class_loss.item()\n",
    "        noobj_loss_train += noobj_loss.item()\n",
    "        optimizer.zero_grad()\n",
    "        loss.backward()\n",
    "        optimizer.step()\n",
    "    loss_train /= j+1\n",
    "    coord_loss_train /= j+1\n",
    "    obj_loss_train /= j+1\n",
    "    class_loss_train /= j+1\n",
    "    noobj_loss_train /= j+1\n",
    "    record_loss_train.append(loss_train)\n",
    "\n",
    "    if i%1 == 0:\n",
    "        print(\"Epoch:\", i, \"Loss_Train:\",round(loss_train, 3), \"coord_loss_train\", round(coord_loss_train, 3), \"obj_loss_train\", round(obj_loss_train, 3), \"class_loss_train\", round(class_loss_train, 3), \"noobj_loss_train\", round(noobj_loss_train, 3))\n"
   ]
  },
  {
   "cell_type": "code",
   "execution_count": null,
   "metadata": {},
   "outputs": [],
   "source": [
    "# 誤差の推移\n",
    "import matplotlib.pyplot as plt\n",
    "\n",
    "plt.plot(range(len(record_loss_train)), record_loss_train)\n",
    "#plt.plot(range(len(record_loss_test)), record_loss_test)\n",
    "plt.legend()\n",
    "\n",
    "plt.xlabel(\"Epochs\")\n",
    "plt.ylabel(\"Error\")\n",
    "plt.show()"
   ]
  },
  {
   "cell_type": "code",
   "execution_count": null,
   "metadata": {},
   "outputs": [],
   "source": [
    "model.eval()\n",
    "\n",
    "transform = transforms.ToTensor()\n",
    "\n",
    "image = Image.open('path/to/data/xxx.jpg')\n",
    "image = transform(image)\n",
    "#print(image.unsqueeze(dim=0).size())\n",
    "pred3, pred2, pred1 = model(image.unsqueeze(dim=0).cuda())\n",
    "#print(pred3)\n",
    "#bbox_list, NMS_bbox_list, _, f= get_multiple_bboxes([pred3[0], pred2[0], pred1[0]], anchor_dict, 1024, 0)\n",
    "flag, bbox_list, label_list, score_list, NMS_bbox_list, _, NMS_label_list, NMS_score_list = get_multiple_bboxes([pred3[0], pred2[0], pred1[0]], anchor_dict, num_cls = 3)\n",
    "print(flag)\n",
    "if flag == True:\n",
    "    draw_bbox(image, bbox_list)\n",
    "    draw_bbox(image, NMS_bbox_list)\n",
    "    print(NMS_label_list)\n",
    "    print(NMS_score_list)"
   ]
  },
  {
   "cell_type": "code",
   "execution_count": null,
   "metadata": {},
   "outputs": [],
   "source": [
    "torch.save(model.state_dict(), 'path/to/data/xxx.pth')"
   ]
  }
 ],
 "metadata": {
  "language_info": {
   "name": "python"
  },
  "orig_nbformat": 4
 },
 "nbformat": 4,
 "nbformat_minor": 2
}
